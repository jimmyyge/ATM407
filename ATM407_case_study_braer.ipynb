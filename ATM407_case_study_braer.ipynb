{
 "cells": [
  {
   "cell_type": "markdown",
   "metadata": {},
   "source": [
    "<a name=\"top\"></a>\n",
    "\n",
    "<div style=\"width:1000 px\">\n",
    "\n",
    "<div style=\"float:right; width:225 px\"><img src=\"https://www.earthcube.org/sites/default/files/doc-repository/logo_earthcube_cube-only_SMALL.png\" alt=\"EarthCube logo\" style=\"height: 150px;\"></div>\n",
    "\n",
    "<h1>A case study of the 1993 Braer storm</h1>\n",
    "\n",
    "Jimmy Ge/ATM 407/Fall 2017\n",
    "\n",
    "### Contents\n",
    "1. <a href=\"#Anchor0\">Background</a>\n",
    "1. <a href=\"#Anchor1\">Synoptic history</a>\n",
    "1. <a href=\"#Anchor2\">2D Analysis</a>\n",
    "1. <a href=\"#Anchor3\">Explosive cyclogenesis</a>\n",
    "1. <a href=\"#Anchor4\">3D Analysis</a>\n",
    "\n",
    "<div style=\"clear:both\"></div>\n",
    "</div>\n",
    "\n",
    "<hr style=\"height:2px;\">\n",
    "\n",
    "<a name=\"Anchor0\"></a><h2>Background</h2>\n",
    "\n",
    "The **Braer storm** was an extratropical cyclone that formed in January 1993 and reached a minimum pressure of 914 hPa, making it the most intense extratropical cyclone ever recorded in the northern Atlantic Ocean. The storm caused the breakup of the stranded oil tanker MV Braer, giving it its name. No human life was lost aboard the Braer but an estimated 1500 seabirds died from the oil spill. On the evening of January 10, parts of the United Kingdom experienced rain, sleet, and snow. A few areas in Scotland reported blizzard conditions, thunderstorms, and gusts over 100 knots.\n",
    "\n",
    "<img src=\"https://raw.githubusercontent.com/jimmyyge/ATM407/master/images/Braer_sat_resized.gif\">\n",
    "<center>*Braer storm in mature stage on January 11, 1993*</center>\n",
    "\n",
    "This Jupyter notebook is a case study of this storm using the Unidata Integrated Data Viewer (IDV) and NASA Modern Era Reanalysis for Research and Applications (MERRA) dataset. This case study will focus on various dynamical aspects of the storm’s formation and subsequent intensification. First, a brief meteorological history of the storm is given, followed by a glance at the two-dimensional pressure and geopotential fields. After a discussion of explosive cyclogenesis, the three-dimensional potential vorticity and potential temperature fields are analyzed.\n",
    "\n",
    "<br>\n",
    "\n",
    "<hr style=\"height:2px;\">\n",
    "\n",
    "To operate this Jupyter notebook, you need to have installed The IDV, Anaconda (Jupyter and ipython), and set up a few necessary things for the DRILSDOWN package, as explained at:  \n",
    "https://brianmapes.github.io/EarthCube-DRILSDOWN/\n",
    "\n",
    "<hr style=\"height:2px;\">"
   ]
  },
  {
   "cell_type": "markdown",
   "metadata": {},
   "source": [
    "<a name=\"Anchor1\"></a>\n",
    "## Synoptic history\n",
    "\n",
    "The Braer storm developed around January 8, 1993, as a merger of separate frontal zones off Newfoundland, Canada. The strong temperature gradient and upper-level jet created baroclinic instability, and the storm quickly intensified. The storm reached its maximum intensity of 914 hPa in the afternoon of 10 January while it was south of Iceland, and by that evening, the pressure began to rise. As it tracked to the northeast between Iceland and Scotland, the storm steadily weakened; on January 12, the minimum pressure was 952 hPa. Five days later, on 17 January, the cyclone dissipated in the Norwegian Sea.\n",
    "\n",
    "<img src=\"https://raw.githubusercontent.com/jimmyyge/ATM407/master/images/ir.gif\">\n",
    "<center>*Braer storm IR in IDV*</center>"
   ]
  },
  {
   "cell_type": "code",
   "execution_count": null,
   "metadata": {
    "collapsed": true
   },
   "outputs": [],
   "source": [
    "%reload_ext drilsdown"
   ]
  },
  {
   "cell_type": "markdown",
   "metadata": {},
   "source": [
    "<a name=\"Anchor2\"></a>\n",
    "## 2D Analysis\n",
    "\n",
    "We will first look at the sea level pressure and geopotential fields to get a basic idea of the atmospheric conditions during the Braer storm's formation and development.\n",
    "\n",
    "<img src=\"https://raw.githubusercontent.com/jimmyyge/ATM407/master/images/slp.gif\">\n",
    "<center>*Braer storm SLP*</center>\n",
    "\n",
    "<img src=\"https://raw.githubusercontent.com/jimmyyge/ATM407/master/images/slp_93011018Z.png\">\n",
    "<center>*Braer storm SLP on January 10, 1993 at 18:00 UTC*</center>\n",
    "\n",
    "The pressure contours give us a very basic idea of how the storm evolved in its early stages. On January 9, a small disturbance can be seen southeast of Newfoundland. An area of low pressure remains stationary off the southeast coast of Greenland which becomes absorbed into the cyclone when it passes. The lowest pressure in the center of the low is 901.9 hPa. The geopotential height field provides a similar view of the situation.\n",
    "\n",
    "<img src=\"https://raw.githubusercontent.com/jimmyyge/ATM407/master/images/h500_93011018Z.png\">\n",
    "<center>*Braer storm 500 hPa geopotential contours on Jan 10 at 18:00 UTC*</center>"
   ]
  },
  {
   "cell_type": "markdown",
   "metadata": {},
   "source": [
    "<a name=\"Anchor3\"></a>\n",
    "## Explosive cyclogenesis\n",
    "\n",
    "Explosive cyclogenesis (sometimes referred to as “bombogenesis” or a “weather bomb”) is a rapid deepening of an extratropical cyclone’s central low. Conventionally, the threshold that characterizes explosive cyclogenesis is a decrease of 24 hPa in 24 hours at 60$^\\circ$ latitude.\n",
    "\n",
    "The **quasi-geostrophic omega equation** is:\n",
    "\n",
    "$$\\sigma \\left( \\nabla^2 + \\frac{f_0^2}{\\sigma} \\frac{\\partial^2}{\\partial p^2} \\right) \\omega = f_0 \\frac{\\partial}{\\partial p} \\left( \\mathbf{V_g} \\cdot \\nabla \\left( \\zeta_g + f \\right) \\right) + \\nabla^2 \\left( \\mathbf{V_g} \\cdot \\nabla \\left( -\\frac{\\partial \\Phi}{\\partial p} \\right) \\right)$$\n",
    "\n",
    "In extremely simple terms, this equation states that _vertical velocity is proportional to vorticity advection by the thermal wind_.\n",
    "\n",
    "In Q-vector form:\n",
    "\n",
    "$$\\sigma \\left( \\nabla^2 + \\frac{f_0^2}{\\sigma} \\frac{\\partial^2}{\\partial p^2} \\right) \\omega = -2 \\nabla \\cdot \\vec{Q}$$\n",
    "\n",
    "where $\\sigma$ is the static stability term. It is immediately apparent that sigma is inversely proportional to vertical motions and so it has a dampening effect, which follows our intuition. Notably, above warm ocean currents, the atmosphere has less static stability and is less resistant to vertical forcing.\n",
    "\n",
    "Diabatic heating plays another critical role, as will be discussed later along with potential vorticity. On the eastern side of the cyclone, warm, moist lower-level air rises as it moves polewards, heating the lower troposphere with warm air advection and latent heat release. The sharpened temperature gradient results in an increase of warm advection, which from the Q-G omega equation, implies an increase in upward motion. This greater rate of ascent feeds the baroclinicity and intensifies the cyclone, and the process continues while enforcing itself. This positive feedback loop corresponds to explosive cyclogenesis."
   ]
  },
  {
   "cell_type": "markdown",
   "metadata": {},
   "source": [
    "<hr style=\"height:2px;\">"
   ]
  },
  {
   "cell_type": "markdown",
   "metadata": {},
   "source": [
    "<div class=\"alert alert-success\">\n",
    "    <b>**The meteorology, with IDV images**</b>:\n",
    "     <ul>\n",
    "\n",
    "<li>*Examine the 2D fields* and get a good understanding of your case.</li>\n",
    "\n",
    "\n",
    "<li>Extreme events (which is what we selected) always involve multiple factors coming together in rare ways. What are the ingredients or factors that came together in your case?</li>\n",
    "\n",
    "<li>Explain the 500mb evolution with vorticity (the 500mb GeoRelVort display).</li>\n",
    "\n",
    "<li>Illustrate your clear verbal description with images or short loops of crucial events or steps in the evolution.</li>\n",
    "\n",
    "    </ul>\n",
    "</div>"
   ]
  },
  {
   "cell_type": "markdown",
   "metadata": {},
   "source": [
    "<div class=\"alert alert-info\">\n",
    "    <b>Note</b>:\n",
    "     Load the 3D bundle, and use the 3D isosurface to understand the 3D strcture of the vortices you saw at 500 mb.\n",
    "</div>"
   ]
  },
  {
   "cell_type": "markdown",
   "metadata": {},
   "source": [
    "<a name=\"Anchor4\"></a>\n",
    "## 3D analysis: The potential vorticity story\n",
    "\n",
    "The isentropic potential vorticity (PV) is given by the expression:\n",
    "\n",
    "$$PV = -g (\\zeta + f) \\frac{d\\theta}{dp}$$\n",
    "\n",
    "This quantity is conserved for adiabatic motions ($d/dt(PV) = 0$), making it especially useful for tracking developing systems. Whereas topography may cause the relative vorticity and circulation to change due to stretching or compression, PV is mostly unaffected.\n",
    "\n",
    "Upper level PV anomalies are produced when stratospheric air with PV descends into the upper troposphere. From the conservation of PV, the isentropes distort, bowing in towards a positive anomaly. This is mathematically represented in the $\\left( \\nabla^2 + \\frac{f_0^2}{\\sigma} \\frac{\\partial^2}{\\partial p} \\right) \\chi$ term of the Q-G $\\chi$ equation. If the PV moves eastward with the main flow, adiabatic flow moves westward along the deformed isentropes, causing rising motion downstream and sinking upstream of the anomaly. Lower PV anomalies are produced by low-level temperature advection. If the lower and upper anomalies are \"in phase\" and their circulations extend far enough through the troposphere, they can amplify each other.\n",
    "\n",
    "<img src=\"https://raw.githubusercontent.com/jimmyyge/ATM407/master/images/pv250.gif\">\n",
    "<center>*PV isosurface in the IDV from 00 UTC January 08 to 00 UTC January 11*</center>"
   ]
  },
  {
   "cell_type": "markdown",
   "metadata": {},
   "source": [
    "### Breaking down the PV sequence into 6-hour time steps"
   ]
  },
  {
   "cell_type": "markdown",
   "metadata": {},
   "source": [
    "<img src=\"https://raw.githubusercontent.com/jimmyyge/ATM407/master/images/pv250_93010906Z.png\">\n",
    "<center>*PV*</center>\n",
    "\n",
    "At 6:00 UTC January 9 southeast of Newfoundland, the disturbance that would become the Braer storm had begun to form as it was advected along to the northeast. This surface low was associated with a lower-level PV anomaly. At the same time, two upper-level PV anomalies were forming. Over the east coast of Canada, a strong ridge and associated subsidence caused PV to increase in the upper troposphere. Over Greenland, the mountainous terrain produced another upper-level PV anomaly in the flow."
   ]
  },
  {
   "cell_type": "markdown",
   "metadata": {},
   "source": [
    "<img src=\"https://raw.githubusercontent.com/jimmyyge/ATM407/master/images/pv250_93010912Z.png\">\n",
    "<center>*PV*</center>\n",
    "\n",
    "At 12:00 UTC, the upper-level jet was advecting the Canada PV anomaly eastward. The Braer storm was travelling through the jet, and by 18:00 UTC, it was positioned closely downstream of the Canada PV anomaly. The Greenland PV anomaly moved little by comparison."
   ]
  },
  {
   "cell_type": "markdown",
   "metadata": {},
   "source": [
    "<img src=\"https://raw.githubusercontent.com/jimmyyge/ATM407/master/images/pv250_93010918Z.png\">\n",
    "<center>*1993-01-09 18:00 UTC*</center>\n",
    "<img src=\"https://raw.githubusercontent.com/jimmyyge/ATM407/master/images/pv250_93011000Z.png\">\n",
    "<center>*1993-01-10 00:00 UTC*</center>\n",
    "<img src=\"https://raw.githubusercontent.com/jimmyyge/ATM407/master/images/pv250_93011006Z.png\">\n",
    "<center>*1993-01-10 06:00 UTC*</center>\n",
    "\n",
    "Between 18:00 UTC January 9 and 06:00 UTC January 10, the Greenland PV anomaly is absorbed into the main upper-level anomaly, which causes it to intensify. The Braer storm was rotating cyclonically around the main anomaly. Meanwhile, high PV air from upstream was advected by the lower-level cyclonic flow into the main anomaly. The result is a long river of PV that spans the Atlantic."
   ]
  },
  {
   "cell_type": "markdown",
   "metadata": {},
   "source": [
    "<img src=\"https://raw.githubusercontent.com/jimmyyge/ATM407/master/images/pv250_93011012Z.png\">\n",
    "<center>*1993-01-10 12:00 UTC*</center>\n",
    "\n",
    "PV distribution during the storm's explosive intensification."
   ]
  },
  {
   "cell_type": "markdown",
   "metadata": {},
   "source": [
    "<img src=\"https://raw.githubusercontent.com/jimmyyge/ATM407/master/images/pv250_93011018Z.png\">\n",
    "<center>*1993-01-10 18:00 UTC*</center>\n",
    "\n",
    "At roughly 18:00 UTC on January 10, the storm reaches its peak intensity. The PV anomalies have mostly dissipated around the storm, and the storm begins to weaken."
   ]
  },
  {
   "cell_type": "markdown",
   "metadata": {},
   "source": [
    "## Column PV\n",
    "\n",
    "<img src=\"https://raw.githubusercontent.com/jimmyyge/ATM407/master/images/pvcolumn.gif\">\n",
    "<center>*PV*</center>"
   ]
  },
  {
   "cell_type": "markdown",
   "metadata": {},
   "source": [
    "<img src=\"https://raw.githubusercontent.com/jimmyyge/ATM407/master/images/pvcolumn_93011018Z.png\">\n",
    "<center>*PV*</center>"
   ]
  },
  {
   "cell_type": "markdown",
   "metadata": {},
   "source": [
    "The above two images show the column PV. In the second image, a stream of PV is seen descending down into the center of the cyclone. Around 06:00 UTC on January 10, it appears that the lower level circulation and upper PV anomaly were out of phase, and the lower PV anomaly was advecting high PV air from northwest upwards, as discussed earlier. Now the isosurfaces suggest that the surface cyclone and upper PV anomaly did phase lock and amplify each other."
   ]
  },
  {
   "cell_type": "markdown",
   "metadata": {},
   "source": [
    "### Cross section views\n",
    "\n",
    "<img src=\"https://raw.githubusercontent.com/jimmyyge/ATM407/master/images/crosscomb_93010918Z.png\">\n",
    "\n",
    "<img src=\"https://raw.githubusercontent.com/jimmyyge/ATM407/master/images/crosscomb_93011018Z.png\">\n",
    "<center>*PV cross sections; the location is shown to the right*</center>"
   ]
  },
  {
   "cell_type": "markdown",
   "metadata": {},
   "source": [
    "A cross section, shown directly above, was drawn straight through the center of the low to show the streamer. Also shown is the same area 24 hours earlier."
   ]
  },
  {
   "cell_type": "markdown",
   "metadata": {},
   "source": [
    "### Potential temperature\n",
    "\n",
    "<img src=\"https://raw.githubusercontent.com/jimmyyge/ATM407/master/images/theta320K.gif\">\n",
    "<center>*PV*</center>\n",
    "\n",
    "<img src=\"https://raw.githubusercontent.com/jimmyyge/ATM407/master/images/theta320K.png\">\n",
    "<center>*PV*</center>\n",
    "\n",
    "The above views are from the east looking west to draw attention to the deformations in the field. The potential temperature isosurface sinks (\"bows towards\") in the PV-anomalous areas as expected. As typical in cold-core systems, the cold column is surrounded by a relatively warm column, so this storm is characterized by positive PV and static stability anomalies."
   ]
  },
  {
   "cell_type": "markdown",
   "metadata": {},
   "source": [
    "<a href=\"#top\">Top</a>\n",
    "<hr style=\"height:2px;\">"
   ]
  },
  {
   "cell_type": "markdown",
   "metadata": {},
   "source": [
    "## Conclusions and future work\n",
    "\n",
    "Although remarkable for its intensity, the research on the Braer storm is much less thorough than other storms, perhaps due to its minimal land impacts and observations, and it might have been overshadowed by the “Storm of the Century” that affected large portions of eastern North America just two months later. The PV quantities used in this case study were entirely derived variables that existed in the data. In future work, the notebook may look at other derived quantities such as sounding data, and provide more details on diabatic heating in the storm. Hopefully, there will also be more interaction between the notebook and IDV."
   ]
  },
  {
   "cell_type": "markdown",
   "metadata": {},
   "source": [
    "### References\n",
    "\n",
    "1. McCallum 1993\n",
    "2. Burt 1993\n",
    "3. Odell 2013"
   ]
  },
  {
   "cell_type": "markdown",
   "metadata": {},
   "source": [
    "### See also\n",
    "\n",
    "https://en.wikipedia.org/wiki/Braer_Storm_of_January_1993"
   ]
  },
  {
   "cell_type": "markdown",
   "metadata": {},
   "source": [
    "<a href=\"#top\">Top</a>\n",
    "<hr style=\"height:2px;\">"
   ]
  }
 ],
 "metadata": {
  "anaconda-cloud": {},
  "kernelspec": {
   "display_name": "Python 3",
   "language": "python",
   "name": "python3"
  },
  "language_info": {
   "codemirror_mode": {
    "name": "ipython",
    "version": 3
   },
   "file_extension": ".py",
   "mimetype": "text/x-python",
   "name": "python",
   "nbconvert_exporter": "python",
   "pygments_lexer": "ipython3",
   "version": "3.6.1"
  }
 },
 "nbformat": 4,
 "nbformat_minor": 1
}
